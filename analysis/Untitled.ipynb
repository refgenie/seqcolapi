{
 "cells": [
  {
   "cell_type": "code",
   "execution_count": 1,
   "id": "befc74ed",
   "metadata": {},
   "outputs": [],
   "source": [
    "import pipestat"
   ]
  },
  {
   "cell_type": "code",
   "execution_count": 2,
   "id": "ca017079",
   "metadata": {},
   "outputs": [
    {
     "name": "stderr",
     "output_type": "stream",
     "text": [
      "Initialize PipestatBackend\n",
      "Initialize FileBackend\n"
     ]
    }
   ],
   "source": [
    "psm = pipestat.PipestatManager(\n",
    "    record_identifier=\"sample1\",\n",
    "    results_file_path=\"pipestat_results.yaml\",\n",
    "    schema_path=\"https://schema.databio.org/pipestat/object_result.yaml\",\n",
    ")"
   ]
  },
  {
   "cell_type": "code",
   "execution_count": 3,
   "id": "183fddda",
   "metadata": {},
   "outputs": [
    {
     "name": "stderr",
     "output_type": "stream",
     "text": [
      "These results exist for 'sample1': value\n"
     ]
    },
    {
     "data": {
      "text/plain": [
       "False"
      ]
     },
     "execution_count": 3,
     "metadata": {},
     "output_type": "execute_result"
    }
   ],
   "source": [
    "psm.report({\"value\": \"123\"})"
   ]
  },
  {
   "cell_type": "code",
   "execution_count": 4,
   "id": "59ead94b",
   "metadata": {},
   "outputs": [
    {
     "name": "stderr",
     "output_type": "stream",
     "text": [
      "These results exist for 'sample1': mydict\n"
     ]
    },
    {
     "data": {
      "text/plain": [
       "False"
      ]
     },
     "execution_count": 4,
     "metadata": {},
     "output_type": "execute_result"
    }
   ],
   "source": [
    "psm.report({\"mydict\": {\"toplevel\": {\"value\": \"456\"}}})"
   ]
  },
  {
   "cell_type": "code",
   "execution_count": 8,
   "id": "36f7a289",
   "metadata": {},
   "outputs": [
    {
     "data": {
      "text/plain": [
       "{'toplevel': {'value': '456'}}"
      ]
     },
     "execution_count": 8,
     "metadata": {},
     "output_type": "execute_result"
    }
   ],
   "source": [
    "psm.retrieve_one(\"sample1\", \"mydict\")"
   ]
  },
  {
   "cell_type": "code",
   "execution_count": 9,
   "id": "3a7f2e95",
   "metadata": {},
   "outputs": [
    {
     "data": {
      "text/plain": [
       "False"
      ]
     },
     "execution_count": 9,
     "metadata": {},
     "output_type": "execute_result"
    }
   ],
   "source": [
    "import ubiquerg\n",
    "ubiquerg.is_url(\"\")"
   ]
  },
  {
   "cell_type": "code",
   "execution_count": 10,
   "id": "506e993b",
   "metadata": {},
   "outputs": [
    {
     "data": {
      "text/plain": [
       "pathlib.PosixPath"
      ]
     },
     "execution_count": 10,
     "metadata": {},
     "output_type": "execute_result"
    }
   ],
   "source": [
    "from pathlib import Path\n",
    "p = Path(\"\")\n",
    "type(p)"
   ]
  },
  {
   "cell_type": "code",
   "execution_count": 14,
   "id": "b7f6e09c",
   "metadata": {},
   "outputs": [
    {
     "data": {
      "text/plain": [
       "'/home/nsheff/code/seqcolapi/analysis/file.txt'"
      ]
     },
     "execution_count": 14,
     "metadata": {},
     "output_type": "execute_result"
    }
   ],
   "source": [
    "import os \n",
    "os.getcwd()\n",
    "os.path.join(os.getcwd(), \"file.txt\")"
   ]
  },
  {
   "cell_type": "code",
   "execution_count": 17,
   "id": "ef34d1aa",
   "metadata": {},
   "outputs": [
    {
     "data": {
      "text/plain": [
       "True"
      ]
     },
     "execution_count": 17,
     "metadata": {},
     "output_type": "execute_result"
    }
   ],
   "source": [
    "os.path.isdir('/home/nsheff/code/seqcolapi/analysis')"
   ]
  }
 ],
 "metadata": {
  "kernelspec": {
   "display_name": "Python 3 (ipykernel)",
   "language": "python",
   "name": "python3"
  },
  "language_info": {
   "codemirror_mode": {
    "name": "ipython",
    "version": 3
   },
   "file_extension": ".py",
   "mimetype": "text/x-python",
   "name": "python",
   "nbconvert_exporter": "python",
   "pygments_lexer": "ipython3",
   "version": "3.11.7"
  }
 },
 "nbformat": 4,
 "nbformat_minor": 5
}
